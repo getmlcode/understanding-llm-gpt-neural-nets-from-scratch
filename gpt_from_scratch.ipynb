{
 "cells": [
  {
   "cell_type": "markdown",
   "id": "728cd6ec",
   "metadata": {},
   "source": [
    "## GPT : Generative Pretrained Transformer, Self Attention Mechanism\n",
    "##### It completes the sequence, so it is a langugage model in that sense\n",
    "##### Its core is based on paper--Attention is all you need--that proposed Transformer Architecture\n",
    "##### Here we are focusing on traning transformer char level based language model"
   ]
  },
  {
   "cell_type": "code",
   "execution_count": 9,
   "id": "94b24321",
   "metadata": {},
   "outputs": [],
   "source": [
    "# read it in to inspect it\n",
    "with open('shakespear.txt', 'r', encoding='utf-8') as f:\n",
    "    text = f.read()"
   ]
  },
  {
   "cell_type": "code",
   "execution_count": 10,
   "id": "0a8d74f1",
   "metadata": {},
   "outputs": [
    {
     "name": "stdout",
     "output_type": "stream",
     "text": [
      "length of dataset in characters:  1125396\n"
     ]
    }
   ],
   "source": [
    "print(\"length of dataset in characters: \", len(text))"
   ]
  },
  {
   "cell_type": "code",
   "execution_count": 11,
   "id": "ef2cf2b7",
   "metadata": {},
   "outputs": [
    {
     "name": "stdout",
     "output_type": "stream",
     "text": [
      "First Citizen:\n",
      "Before we proceed any further, hear me speak.\n",
      "\n",
      "All:\n",
      "Speak, speak.\n",
      "\n",
      "First Citizen:\n",
      "You are all resolved rather to die than to famish?\n",
      "\n",
      "All:\n",
      "Resolved. resolved.\n",
      "\n",
      "First Citizen:\n",
      "First, you know Caius Marcius is chief enemy to the people.\n",
      "\n",
      "All:\n",
      "We know't, we know't.\n",
      "\n",
      "First Citizen:\n",
      "Let us kill him, and we'll have corn at our own price.\n",
      "Is't a verdict?\n",
      "\n",
      "All:\n",
      "No more talking on't; let it \n"
     ]
    }
   ],
   "source": [
    "print(text[:400])"
   ]
  },
  {
   "cell_type": "code",
   "execution_count": 12,
   "id": "303a3960",
   "metadata": {},
   "outputs": [
    {
     "name": "stdout",
     "output_type": "stream",
     "text": [
      "\n",
      " !$&',-.3:;?ABCDEFGHIJKLMNOPQRSTUVWXYZabcdefghijklmnopqrstuvwxyz\n",
      "65\n"
     ]
    }
   ],
   "source": [
    "chars = sorted(list(set(text)))\n",
    "vocab_size = len(chars)\n",
    "print(''.join(chars))\n",
    "print(vocab_size)"
   ]
  },
  {
   "cell_type": "code",
   "execution_count": 13,
   "id": "071ae66f",
   "metadata": {},
   "outputs": [],
   "source": [
    "stoi = { ch:i for i,ch in enumerate(chars) }\n",
    "itos = { i:ch for i,ch in enumerate(chars) }\n",
    "encode = lambda s: [stoi[c] for c in s] # encoder: take a string, output a list of integers\n",
    "decode = lambda l: ''.join([itos[i] for i in l]) # decoder: take a list of integers, output a string"
   ]
  },
  {
   "cell_type": "code",
   "execution_count": 14,
   "id": "96161358",
   "metadata": {},
   "outputs": [
    {
     "name": "stdout",
     "output_type": "stream",
     "text": [
      "[46, 47, 47, 1, 58, 46, 43, 56, 43]\n",
      "hii there\n"
     ]
    }
   ],
   "source": [
    "print(encode(\"hii there\"))\n",
    "print(decode(encode(\"hii there\")))"
   ]
  },
  {
   "cell_type": "code",
   "execution_count": null,
   "id": "4fe65439",
   "metadata": {},
   "outputs": [
    {
     "name": "stdout",
     "output_type": "stream",
     "text": [
      "torch.Size([1125396]) torch.int64\n",
      "tensor([18, 47, 56, 57, 58,  1, 15, 47, 58, 47, 64, 43, 52, 10,  0, 14, 43, 44,\n",
      "        53, 56, 43,  1, 61, 43,  1, 54, 56, 53, 41, 43, 43, 42,  1, 39, 52, 63,\n",
      "         1, 44, 59, 56, 58, 46, 43, 56,  6,  1, 46, 43, 39, 56,  1, 51, 43,  1,\n",
      "        57, 54, 43, 39, 49,  8,  0,  0, 13, 50, 50, 10,  0, 31, 54, 43, 39, 49,\n",
      "         6,  1, 57, 54, 43, 39, 49,  8,  0,  0, 18, 47, 56, 57, 58,  1, 15, 47,\n",
      "        58, 47, 64, 43, 52, 10,  0, 37, 53, 59])\n"
     ]
    }
   ],
   "source": [
    "import torch\n",
    "data = torch.tensor(encode(text), dtype=torch.long)\n",
    "print(data.shape, data.dtype)\n",
    "print(data[:100])"
   ]
  },
  {
   "cell_type": "code",
   "execution_count": 18,
   "id": "f9700e24",
   "metadata": {},
   "outputs": [],
   "source": [
    "n = int(0.9*len(data)) # first 90% will be train, rest val\n",
    "train_data = data[:n]\n",
    "val_data = data[n:]"
   ]
  },
  {
   "cell_type": "markdown",
   "id": "ebb8d6c8",
   "metadata": {},
   "source": [
    "#### We work with chunks of dataset, and for training transformer we sample random chunks from trainset and train it chunks at a time. Chunks have maximum length referred to as block size"
   ]
  },
  {
   "cell_type": "code",
   "execution_count": null,
   "id": "18428fd6",
   "metadata": {},
   "outputs": [
    {
     "data": {
      "text/plain": [
       "tensor([18, 47, 56, 57, 58,  1, 15, 47, 58])"
      ]
     },
     "execution_count": 19,
     "metadata": {},
     "output_type": "execute_result"
    }
   ],
   "source": [
    "block_size = 8\n",
    "train_data[:block_size+1]"
   ]
  },
  {
   "cell_type": "markdown",
   "id": "1af9cf08",
   "metadata": {},
   "source": [
    "##### Each chunk has multiple examples packed into it: [18] -> [47];  [18, 47] -> [56]. Part of input text beyond block_size is truncated."
   ]
  },
  {
   "cell_type": "code",
   "execution_count": 20,
   "id": "8704f12a",
   "metadata": {},
   "outputs": [
    {
     "name": "stdout",
     "output_type": "stream",
     "text": [
      "when input is tensor([18]) the target: 47\n",
      "when input is tensor([18, 47]) the target: 56\n",
      "when input is tensor([18, 47, 56]) the target: 57\n",
      "when input is tensor([18, 47, 56, 57]) the target: 58\n",
      "when input is tensor([18, 47, 56, 57, 58]) the target: 1\n",
      "when input is tensor([18, 47, 56, 57, 58,  1]) the target: 15\n",
      "when input is tensor([18, 47, 56, 57, 58,  1, 15]) the target: 47\n",
      "when input is tensor([18, 47, 56, 57, 58,  1, 15, 47]) the target: 58\n"
     ]
    }
   ],
   "source": [
    "x =  train_data[:block_size]\n",
    "y = train_data[1:block_size+1]\n",
    "for t in range(block_size):\n",
    "    context = x[:t+1]\n",
    "    target = y[t]\n",
    "    print(f\"when input is {context} the target: {target}\")"
   ]
  },
  {
   "cell_type": "code",
   "execution_count": null,
   "id": "7d65564a",
   "metadata": {},
   "outputs": [
    {
     "name": "stdout",
     "output_type": "stream",
     "text": [
      "inputs:\n",
      "torch.Size([4, 8])\n",
      "tensor([[ 1, 46, 47, 51, 11,  1, 21,  1],\n",
      "        [ 1, 57, 39, 47, 52, 58,  1, 61],\n",
      "        [43,  1, 51, 59, 57, 58,  1, 40],\n",
      "        [ 1, 57, 39, 63,  1, 58, 46, 43]])\n",
      "targets:\n",
      "torch.Size([4, 8])\n",
      "tensor([[46, 47, 51, 11,  1, 21,  1, 46],\n",
      "        [57, 39, 47, 52, 58,  1, 61, 46],\n",
      "        [ 1, 51, 59, 57, 58,  1, 40, 43],\n",
      "        [57, 39, 63,  1, 58, 46, 43, 43]])\n",
      "----\n",
      "when input is [1] the target: 46\n",
      "when input is [1, 46] the target: 47\n",
      "when input is [1, 46, 47] the target: 51\n",
      "when input is [1, 46, 47, 51] the target: 11\n",
      "when input is [1, 46, 47, 51, 11] the target: 1\n",
      "when input is [1, 46, 47, 51, 11, 1] the target: 21\n",
      "when input is [1, 46, 47, 51, 11, 1, 21] the target: 1\n",
      "when input is [1, 46, 47, 51, 11, 1, 21, 1] the target: 46\n",
      "when input is [1] the target: 57\n",
      "when input is [1, 57] the target: 39\n",
      "when input is [1, 57, 39] the target: 47\n",
      "when input is [1, 57, 39, 47] the target: 52\n",
      "when input is [1, 57, 39, 47, 52] the target: 58\n",
      "when input is [1, 57, 39, 47, 52, 58] the target: 1\n",
      "when input is [1, 57, 39, 47, 52, 58, 1] the target: 61\n",
      "when input is [1, 57, 39, 47, 52, 58, 1, 61] the target: 46\n",
      "when input is [43] the target: 1\n",
      "when input is [43, 1] the target: 51\n",
      "when input is [43, 1, 51] the target: 59\n",
      "when input is [43, 1, 51, 59] the target: 57\n",
      "when input is [43, 1, 51, 59, 57] the target: 58\n",
      "when input is [43, 1, 51, 59, 57, 58] the target: 1\n",
      "when input is [43, 1, 51, 59, 57, 58, 1] the target: 40\n",
      "when input is [43, 1, 51, 59, 57, 58, 1, 40] the target: 43\n",
      "when input is [1] the target: 57\n",
      "when input is [1, 57] the target: 39\n",
      "when input is [1, 57, 39] the target: 63\n",
      "when input is [1, 57, 39, 63] the target: 1\n",
      "when input is [1, 57, 39, 63, 1] the target: 58\n",
      "when input is [1, 57, 39, 63, 1, 58] the target: 46\n",
      "when input is [1, 57, 39, 63, 1, 58, 46] the target: 43\n",
      "when input is [1, 57, 39, 63, 1, 58, 46, 43] the target: 43\n"
     ]
    }
   ],
   "source": [
    "torch.manual_seed(1337)\n",
    "batch_size = 4 # how many independent sequences will we process in parallel?\n",
    "block_size = 8 # what is the maximum context length for predictions?\n",
    "\n",
    "def get_batch(split):\n",
    "    # generate a small batch of data of inputs x and targets y\n",
    "    data = train_data if split == 'train' else val_data\n",
    "    ix = torch.randint(len(data) - block_size, (batch_size,)) # random offset into train set\n",
    "    x = torch.stack([data[i:i+block_size] for i in ix])\n",
    "    y = torch.stack([data[i+1:i+block_size+1] for i in ix])\n",
    "    return x, y\n",
    "\n",
    "xb, yb = get_batch('train')\n",
    "print('inputs:')\n",
    "print(xb.shape)\n",
    "print(xb)\n",
    "print('targets:')\n",
    "print(yb.shape)\n",
    "print(yb)\n",
    "\n",
    "print('----')\n",
    "\n",
    "for b in range(batch_size): # batch dimension\n",
    "    for t in range(block_size): # time dimension\n",
    "        context = xb[b, :t+1]\n",
    "        target = yb[b,t]\n",
    "        print(f\"when input is {context.tolist()} the target: {target}\")"
   ]
  },
  {
   "cell_type": "code",
   "execution_count": 38,
   "id": "1d92eb2b",
   "metadata": {},
   "outputs": [],
   "source": [
    "import torch\n",
    "import torch.nn as nn\n",
    "from torch.nn import functional as F\n",
    "torch.manual_seed(1337)\n",
    "\n",
    "class BigramLanguageModel(nn.Module):\n",
    "    def __init__(self, vocab_size):\n",
    "        super().__init__()\n",
    "        # each token directly reads off the logits for the next token from a lookup table\n",
    "        self.token_embedding_table = nn.Embedding(vocab_size, vocab_size)\n",
    "\n",
    "    def forward(self, idx, targets=None):\n",
    "\n",
    "        # idx and targets are both (B,T) tensor of integers\n",
    "        logits = self.token_embedding_table(idx) # (B,T,C)\n",
    "        if targets == None:\n",
    "            loss = None\n",
    "        else:\n",
    "            B,T,C = logits.shape\n",
    "            logits = logits.view(B*T,C)\n",
    "            targets = targets.view(B*T)\n",
    "            loss = F.cross_entropy(logits, targets)\n",
    "\n",
    "        return logits, loss\n",
    "    \n",
    "    def generate(self, idx, max_new_tokens):\n",
    "        # idx is (B, T) array of indices in the current context\n",
    "        # take this (B,T) and extend it to (B,T+1) ... (B, T+new_tokens)\n",
    "        for _ in range(max_new_tokens):\n",
    "            # get the predictions\n",
    "            logits, loss = self(idx)\n",
    "            # focus only on the last time step\n",
    "            logits = logits[:, -1, :] # becomes (B, C)\n",
    "            # apply softmax to get probabilities\n",
    "            probs = F.softmax(logits, dim=-1) # (B, C)\n",
    "            # sample from the distribution\n",
    "            idx_next = torch.multinomial(probs, num_samples=1) # (B, 1)\n",
    "            # append sampled index to the running sequence\n",
    "            idx = torch.cat((idx, idx_next), dim=1) # (B, T+1)\n",
    "        return idx"
   ]
  },
  {
   "cell_type": "code",
   "execution_count": 39,
   "id": "6369719b",
   "metadata": {},
   "outputs": [
    {
     "name": "stdout",
     "output_type": "stream",
     "text": [
      "torch.Size([32, 65])\n",
      "4.7820000648498535\n"
     ]
    }
   ],
   "source": [
    "m = BigramLanguageModel(vocab_size)\n",
    "logits, loss = m(xb,yb)\n",
    "print(logits.shape)\n",
    "print(loss.item())"
   ]
  },
  {
   "cell_type": "code",
   "execution_count": 40,
   "id": "76024dfe",
   "metadata": {},
   "outputs": [
    {
     "name": "stdout",
     "output_type": "stream",
     "text": [
      "\n",
      "Sr?qP-QWktXoL&jLDJgOLVz'RIoDqHdhsV&vLLxatjscMpwLERSPyao.qfzs$Ys$zF-w,;eEkzxjgCKFChs!iWW.ObzDnxA Ms$3\n"
     ]
    }
   ],
   "source": [
    "print(decode(m.generate(idx = torch.zeros((1, 1), dtype=torch.long), max_new_tokens=100)[0].tolist()))"
   ]
  },
  {
   "cell_type": "code",
   "execution_count": 42,
   "id": "717a92c6",
   "metadata": {},
   "outputs": [],
   "source": [
    "optimizer = torch.optim.AdamW(m.parameters(), lr=1e-3)"
   ]
  },
  {
   "cell_type": "code",
   "execution_count": 47,
   "id": "ffdb3915",
   "metadata": {},
   "outputs": [
    {
     "name": "stdout",
     "output_type": "stream",
     "text": [
      "2.4941189289093018\n"
     ]
    }
   ],
   "source": [
    "batch_size = 32\n",
    "for steps in range(10000):\n",
    "    # sample a batch of data\n",
    "    xb, yb = get_batch('train')\n",
    "\n",
    "    # evaluate the loss\n",
    "    logits, loss = m(xb, yb)\n",
    "    optimizer.zero_grad(set_to_none=True)\n",
    "    loss.backward()\n",
    "    optimizer.step()\n",
    "\n",
    "print(loss.item())"
   ]
  },
  {
   "cell_type": "code",
   "execution_count": 63,
   "id": "e4718f42",
   "metadata": {},
   "outputs": [
    {
     "name": "stdout",
     "output_type": "stream",
     "text": [
      "\n",
      "O aranthar h hy knty\n",
      "Bou h ckeim tisathind ig s wend a!\n",
      "Cangerusbyoteretais?\n",
      "por poraslemas, TESh! I d!\n",
      "Haligur!\n",
      "So det\n",
      "AMBatrbrveioaing nll bers when pato on\n",
      "Frcouce, popatt trin ancas;\n",
      "e pitthe is ifr, n, in, tthanolshetrese wo!\n",
      "\n",
      "Myor dos o he d bangn isire wo h, t bed s, d It pu watindh,\n",
      "\n",
      "Thohepadicoendend\n",
      "AUn bellorore:\n",
      "WIs knd! ou herot, re the wes tarckir Ben t fand su win, h 'dim fay 's'sy POfr.\n",
      "\n",
      "G'de hevilliforo f spr mary ak,\n",
      "Win, llith aby s g ttoou sth dwsiaunderingl t'd pico nowid pf\n"
     ]
    }
   ],
   "source": [
    "print(decode(m.generate(idx = torch.zeros((1, 1), dtype=torch.long), max_new_tokens=500)[0].tolist()))"
   ]
  },
  {
   "cell_type": "markdown",
   "id": "cec3d078",
   "metadata": {},
   "source": [
    "#### So far we are only looking at last character to predict next character, our context length is too small"
   ]
  },
  {
   "cell_type": "code",
   "execution_count": 86,
   "id": "de51c008",
   "metadata": {},
   "outputs": [
    {
     "data": {
      "text/plain": [
       "torch.Size([4, 8, 2])"
      ]
     },
     "execution_count": 86,
     "metadata": {},
     "output_type": "execute_result"
    }
   ],
   "source": [
    "torch.manual_seed(1337)\n",
    "B,T,C = 4,8,2 # batch, time, channels\n",
    "x = torch.randn(B,T,C)\n",
    "x.shape"
   ]
  },
  {
   "cell_type": "code",
   "execution_count": 87,
   "id": "f5d37f72",
   "metadata": {},
   "outputs": [],
   "source": [
    "# summarizing context by just averaging\n",
    "xbow = torch.zeros((B,T,C))\n",
    "for b in range(B):\n",
    "    for t in range(T):\n",
    "        xprev = x[b,:t+1] # (t,C)\n",
    "        xbow[b,t] = torch.mean(xprev, 0)"
   ]
  },
  {
   "cell_type": "code",
   "execution_count": 94,
   "id": "f71ff81d",
   "metadata": {},
   "outputs": [
    {
     "data": {
      "text/plain": [
       "True"
      ]
     },
     "execution_count": 94,
     "metadata": {},
     "output_type": "execute_result"
    }
   ],
   "source": [
    "wei = torch.tril(torch.ones(T,T))\n",
    "wei = wei / wei.sum(1, keepdim=True)\n",
    "# (T,T) @ (B,T,C) \n",
    "# broadcasted (B,T,T) @ (B,T,C) ---> (B,T,C), batche matrix multiply\n",
    "xbow2 = wei @ x\n",
    "torch.allclose(xbow[3], xbow2[3])"
   ]
  },
  {
   "cell_type": "markdown",
   "id": "a484a1a0",
   "metadata": {},
   "source": [
    "##### Weighted aggregation of past tokens implemented using matrix multiplication of lower triangular matrix\n",
    "##### It is used for developing self attention block"
   ]
  },
  {
   "cell_type": "code",
   "execution_count": null,
   "id": "56af133d",
   "metadata": {},
   "outputs": [],
   "source": [
    "tril = torch.tril(torch.ones(T,T))\n",
    "\n",
    "# Interaction strength, it tells us how much of the past token we want to average up\n",
    "# This is updated based on data, so tokens will start looking at each other and some \n",
    "# tokens will find other tokens more or less intereting to different amounts dependig \n",
    "# on the value present\n",
    "# It is initialized to be zero.\n",
    "wei = torch.zeros(T,T)\n",
    "\n",
    "# Don't aggregate anything from future, we only look at previous tokens\n",
    "wei = wei.masked_fill(tril == 0, float('-inf'))\n",
    "\n",
    "wei = F.softmax(wei, dim=-1)\n",
    "\n",
    "xbow3 = wei @ x"
   ]
  },
  {
   "cell_type": "markdown",
   "id": "fa93dacd",
   "metadata": {},
   "source": [
    "### Self Attention (Single Head)\n",
    "#### Different tokens will find other tokens more or less interesting, and we want that to be data dependent e.g. vowels looking for consonants. So we want info to flow from previous tokens but is a data dependent manner.\n",
    "#### Every single token emits two vectors: 1. Key 2. Query\n",
    "#### Query : What am I looking for (content i am looking for). \n",
    "#### Key : What do I contain (token content)\n",
    "#### We get affinities between tokens is through dot product of Key and Query.\n",
    "#### For this case, Query of current token dot products with Key of previous tokens. We get Wei matrix.\n",
    "#### Instead of using actual input tokens we use calculate Value(x), we can think of x as some king of pvt info to the token.\n",
    "#### So, info for given token is kept in x, and for single head attention Query q indicates what it is interested in, Key k is what it has, and it communicates Value v to anyone finding it interesting. \n",
    "#### So v = Value(x) is what gets aggregated between different tokens for the purpose of the single head attention"
   ]
  },
  {
   "cell_type": "markdown",
   "id": "14b85641",
   "metadata": {},
   "source": [
    "Notes:\n",
    "- Attention is a **communication mechanism**. Can be seen as nodes in a directed graph looking at each other and aggregating information with a weighted sum from all nodes that point to them, with data-dependent weights.\n",
    "- There is no notion of space. Attention simply acts over a set of vectors. This is why we need to positionally encode tokens.\n",
    "- Each example across batch dimension is of course processed completely independently and never \"talk\" to each other\n",
    "- In an \"encoder\" attention block just delete the single line that does masking with `tril`, allowing all tokens to communicate. This block here is called a \"decoder\" attention block because it has triangular masking, and is usually used in autoregressive settings, like language modeling.\n",
    "- \"self-attention\" just means that the keys and values are produced from the same source as queries. In \"cross-attention\", the queries still get produced from x, but the keys and values come from some other, external source (e.g. an encoder block which encodes some context that we like to condition on) \n",
    "- \"Scaled\" attention additional divides `wei` by 1/sqrt(head_size). This makes it so when input Q,K are unit variance, wei will be unit variance too and Softmax will stay diffuse and not saturate too much. Illustration below"
   ]
  },
  {
   "cell_type": "code",
   "execution_count": null,
   "id": "5eb3e0b1",
   "metadata": {},
   "outputs": [
    {
     "data": {
      "text/plain": [
       "torch.Size([4, 8, 16])"
      ]
     },
     "execution_count": 101,
     "metadata": {},
     "output_type": "execute_result"
    }
   ],
   "source": [
    "# Self Attention (Decoder block)\n",
    "torch.manual_seed(1337)\n",
    "B,T,C = 4,8,32\n",
    "x = torch.randn(B,T,C)\n",
    "\n",
    "# Single head of self attention\n",
    "head_size = 16\n",
    "key = nn.Linear(C, head_size, bias=False)\n",
    "query = nn.Linear(C, head_size, bias=False)\n",
    "value = nn.Linear(C, head_size, bias=False)\n",
    "\n",
    "q = query(x) # (B,T,head_size)\n",
    "k = key(x) # (B,T,head_size)\n",
    "\n",
    "wei = q @ k.transpose(-2,-1) # (B,T,16) @ (B,16,T) --> (B,T,T)\n",
    "\n",
    "# Interaction strength, it tells us how much of the past token we want to average up\n",
    "# This is updated based on data, so tokens will start looking at each other and some \n",
    "# tokens will find other tokens more or less intereting to different amounts dependig \n",
    "# on the value present.\n",
    "# It is initialized to be zero.\n",
    "# wei = torch.zeros(T,T)\n",
    "\n",
    "# Don't aggregate anything from future, we only look at previous tokens\n",
    "tril = torch.tril(torch.ones(T,T))\n",
    "wei = wei.masked_fill(tril == 0, float('-inf')) # removed in enoder block\n",
    "\n",
    "# normalize rows\n",
    "wei = F.softmax(wei, dim=-1)\n",
    "\n",
    "v = value(x) # (B,T,head_size)\n",
    "out = wei @ v # (B,T,T) @ (B,T,head_size)\n",
    "#out = wei @ x # simple averaging\n",
    "\n",
    "out.shape"
   ]
  },
  {
   "cell_type": "code",
   "execution_count": 100,
   "id": "5b0bcc03",
   "metadata": {},
   "outputs": [
    {
     "data": {
      "text/plain": [
       "tensor([[-1.7629, -1.3011,  0.5652,  2.1616, -1.0674,  1.9632,  1.0765, -0.4530],\n",
       "        [-3.3334, -1.6556,  0.1040,  3.3782, -2.1825,  1.0415, -0.0557,  0.2927],\n",
       "        [-1.0226, -1.2606,  0.0762, -0.3813, -0.9843, -1.4303,  0.0749, -0.9547],\n",
       "        [ 0.7836, -0.8014, -0.3368, -0.8496, -0.5602, -1.1701, -1.2927, -1.0260],\n",
       "        [-1.2566,  0.0187, -0.7880, -1.3204,  2.0363,  0.8638,  0.3719,  0.9258],\n",
       "        [-0.3126,  2.4152, -0.1106, -0.9931,  3.3449, -2.5229,  1.4187,  1.2196],\n",
       "        [ 1.0876,  1.9652, -0.2621, -0.3158,  0.6091,  1.2616, -0.5484,  0.8048],\n",
       "        [-1.8044, -0.4126, -0.8306,  0.5898, -0.7987, -0.5856,  0.6433,  0.6303]],\n",
       "       grad_fn=<SelectBackward0>)"
      ]
     },
     "execution_count": 100,
     "metadata": {},
     "output_type": "execute_result"
    }
   ],
   "source": [
    "wei[0]"
   ]
  },
  {
   "cell_type": "markdown",
   "id": "57f98df6",
   "metadata": {},
   "source": [
    "## Implementataion (GPT)"
   ]
  },
  {
   "cell_type": "markdown",
   "id": "2a4f659a",
   "metadata": {},
   "source": [
    "##### This is decoder only transformer with no cross attention and encoder block present, it only has self attention and feed forward and layer norm\n",
    "##### It is so because we are just generating text unconditioned on anything, what makes it a decoder is that we are using triangular mask in transformer self attention, hence it has auto regressive nature.\n",
    "##### Encoder would be needed in setting like language translation. The generation of translated text in target language is conditioned on input text in source language. We would create tokens from it and put a transformer on it without triangular masking, essentially sncoding the input text.\n",
    "##### Keys and Values come from what we condition on, input source text in this case, and feed into cross attention block of decoder "
   ]
  },
  {
   "cell_type": "code",
   "execution_count": 194,
   "id": "62e05d31",
   "metadata": {},
   "outputs": [],
   "source": [
    "import torch\n",
    "import torch.nn as nn\n",
    "from torch.nn import functional as F \n",
    "\n",
    "torch.manual_seed(1337)\n",
    "\n",
    "# hyperparameters\n",
    "batch_size = 16 # how many independent sequences will we process in parallel?\n",
    "block_size = 32 # what is the maximum context length for predictions?\n",
    "max_iters = 5000\n",
    "eval_interval = 100\n",
    "learning_rate = 1e-3\n",
    "device = 'cuda' if torch.cuda.is_available() else 'cpu'\n",
    "eval_iters = 200\n",
    "n_embd = 64\n",
    "n_head = 4\n",
    "n_layer = 4\n",
    "dropout = 0.0\n",
    "# ------------"
   ]
  },
  {
   "cell_type": "code",
   "execution_count": 195,
   "id": "bd69c400",
   "metadata": {},
   "outputs": [],
   "source": [
    "class Head(nn.Module):\n",
    "    \"\"\" one head of self-attention \"\"\"\n",
    "\n",
    "    def __init__(self, head_size):\n",
    "        super().__init__()\n",
    "        self.key = nn.Linear(n_embd, head_size, bias=False)\n",
    "        self.query = nn.Linear(n_embd, head_size, bias=False)\n",
    "        self.value = nn.Linear(n_embd, head_size, bias=False)\n",
    "        self.register_buffer('tril', torch.tril(torch.ones(block_size, block_size)))\n",
    "\n",
    "        self.dropout = nn.Dropout(dropout)\n",
    "        \n",
    "    def forward(self, x):\n",
    "        B,T,C = x.shape\n",
    "        k = self.key(x)   # (B,T,C)\n",
    "        q = self.query(x) # (B,T,C)\n",
    "        # compute scaled attention scores (\"affinities\")\n",
    "        wei = q @ k.transpose(-2,-1) * C**-0.5 # (B, T, C) @ (B, C, T) -> (B, T, T)\n",
    "        \n",
    "        # Don't aggregate anything from future, we only look at previous tokens\n",
    "        wei = wei.masked_fill(self.tril[:T, :T] == 0, float('-inf')) # (B, T, T)\n",
    "        wei = F.softmax(wei, dim=-1) # (B, T, T)\n",
    "\n",
    "        # randomly prevent some nodes from communicating\n",
    "        wei = self.dropout(wei)\n",
    "        # perform the weighted aggregation of the values\n",
    "        v = self.value(x) # (B,T,C)\n",
    "        out = wei @ v # (B, T, T) @ (B, T, C) -> (B, T, C)\n",
    "        return out"
   ]
  },
  {
   "cell_type": "code",
   "execution_count": 196,
   "id": "8fe1dbb4",
   "metadata": {},
   "outputs": [],
   "source": [
    "class MultiHeadAttention(nn.Module):\n",
    "    \"\"\" multiple heads of self-attention in parallel \"\"\"\n",
    "\n",
    "    def __init__(self, num_heads, head_size):\n",
    "        super().__init__()\n",
    "        self.heads = nn.ModuleList([Head(head_size) for _ in range(num_heads)])\n",
    "        self.proj = nn.Linear(n_embd, n_embd) # projection layer going back into residual pathway\n",
    "        self.dropout = nn.Dropout(dropout)\n",
    "\n",
    "    def forward(self, x):\n",
    "        # concatenating over chanel dimension\n",
    "        out = torch.cat([h(x) for h in self.heads], dim=-1)\n",
    "        out = self.proj(out)\n",
    "        out = self.dropout(out)\n",
    "        return out"
   ]
  },
  {
   "cell_type": "code",
   "execution_count": 197,
   "id": "44c4560f",
   "metadata": {},
   "outputs": [],
   "source": [
    "class FeedFoward(nn.Module):\n",
    "    \"\"\" a simple linear layer followed by a non-linearity \"\"\"\n",
    "\n",
    "    def __init__(self, n_embd):\n",
    "        super().__init__()\n",
    "        # multiplied by 4 as mentioned in paper\n",
    "        self.net = nn.Sequential(\n",
    "            nn.Linear(n_embd, 4 * n_embd),\n",
    "            nn.ReLU(),\n",
    "            nn.Linear(4 * n_embd, n_embd), # projection layer going back into residual pathway\n",
    "            nn.Dropout(dropout)\n",
    "        )\n",
    "\n",
    "    def forward(self, x):\n",
    "        return self.net(x)"
   ]
  },
  {
   "cell_type": "markdown",
   "id": "a108cdad",
   "metadata": {},
   "source": [
    "### Skip Connections (residual connections)\n",
    "#### With addition distributing gradient equally to all its branches, we have a gradient super highway that goes all the way to the input and the residual blocks are usually initialized in the beginning in a way that they contribute very little to residual pathway so they are almost absent in the begining.\n",
    "#### During optimization residual blocks come online over time and start to contribute, but at least at the initialization gradient can go directly to input unimpeded and just flows.\n",
    "\n",
    "### Dropout\n",
    "#### A regularization technique, in which certain nodes are randomly dropped every train loop and trained without them. One can think of if like training ensemble of NNs. At test/inference time they are all merged.\n",
    "#### Added right before the connection back into residual pathway"
   ]
  },
  {
   "cell_type": "code",
   "execution_count": 198,
   "id": "fb4ec937",
   "metadata": {},
   "outputs": [],
   "source": [
    "class TransformerBlock(nn.Module):\n",
    "    \"\"\" Transformer block: communication followed by computation \"\"\"\n",
    "\n",
    "    def __init__(self, n_embd, n_head):\n",
    "        # n_embd: embedding dimension, n_head: the number of heads we'd like\n",
    "        super().__init__()\n",
    "        head_size = n_embd // n_head\n",
    "        self.sa = MultiHeadAttention(n_head, head_size)\n",
    "        self.ffwd = FeedFoward(n_embd)\n",
    "        self.ln1 = nn.LayerNorm(n_embd)\n",
    "        self.ln2 = nn.LayerNorm(n_embd)\n",
    "\n",
    "    def forward(self, x):\n",
    "        # Layer norm applied first here before x goes into self attention and feed forward\n",
    "        x = x + self.sa(self.ln1(x))\n",
    "        x = x + self.ffwd(self.ln2(x))\n",
    "        return x"
   ]
  },
  {
   "cell_type": "code",
   "execution_count": 199,
   "id": "1fc201ef",
   "metadata": {},
   "outputs": [],
   "source": [
    "class BigramLanguageModel(nn.Module):\n",
    "    def __init__(self):\n",
    "        super().__init__()\n",
    "        self.token_embedding_table = nn.Embedding(vocab_size, n_embd)\n",
    "        self.position_embedding_table = nn.Embedding(block_size, n_embd)\n",
    "        \n",
    "        # 4 heads of n_embd//4 dimensional self attention\n",
    "        # Each concatenated over channel dimensioin to produce \n",
    "        # (batch_size,block_size,n_embb) dimentional output\n",
    "        # self.sa_heads = MultiHeadAttention(4, n_embd//4)\n",
    "\n",
    "        self.transformer_blocks = nn.Sequential(*[TransformerBlock(n_embd, n_head=n_head) for _ in range(n_layer)])\n",
    "        self.ln_f = nn.LayerNorm(n_embd) # final layer norm\n",
    "        self.lm_head = nn.Linear(n_embd, vocab_size)\n",
    "\n",
    "    def forward(self, idx, targets=None):\n",
    "        B, T = idx.shape\n",
    "        # idx and targets are both (B,T) tensor of integers\n",
    "        tok_emb = self.token_embedding_table(idx) # (B,T,C)\n",
    "\n",
    "        # Encoding position 0 to T-1 with t'th row containning embedding for that,\n",
    "        # hence broadcasting across batches makes sense as embedding is added to \n",
    "        # corresponding token at correct position index in the sample text\n",
    "        pos_emb = self.position_embedding_table(torch.arange(T, device=device)) # (T,C)\n",
    "        x = tok_emb + pos_emb\n",
    "        #x = self.sa_heads(x)\n",
    "        x = self.transformer_blocks(x) # (B,T,C)\n",
    "        x = self.ln_f(x)\n",
    "        logits = self.lm_head(x) # (B,T,vocab_size)\n",
    "\n",
    "        if targets == None:\n",
    "            loss = None\n",
    "        else:\n",
    "            B,T,C = logits.shape\n",
    "            logits = logits.view(B*T,C)\n",
    "            targets = targets.view(B*T)\n",
    "            loss = F.cross_entropy(logits, targets)\n",
    "\n",
    "        return logits, loss\n",
    "    \n",
    "    def generate(self, idx, max_new_tokens):\n",
    "        # idx is (B, T) array of indices in the current context\n",
    "        # take this (B,T) and extend it to (B,T+1) ... (B, T+new_tokens)\n",
    "        for _ in range(max_new_tokens):\n",
    "            idx_cond =  idx[:,-block_size:]\n",
    "            # get the predictions\n",
    "            logits, loss = self(idx_cond)\n",
    "            # focus only on the last time step\n",
    "            logits = logits[:, -1, :] # becomes (B, C)\n",
    "            # apply softmax to get probabilities\n",
    "            probs = F.softmax(logits, dim=-1) # (B, C)\n",
    "            # sample from the distribution\n",
    "            idx_next = torch.multinomial(probs, num_samples=1) # (B, 1)\n",
    "            # append sampled index to the running sequence\n",
    "            idx = torch.cat((idx, idx_next), dim=1) # (B, T+1)\n",
    "        return idx"
   ]
  },
  {
   "cell_type": "code",
   "execution_count": 200,
   "id": "5784c890",
   "metadata": {},
   "outputs": [],
   "source": [
    "model = BigramLanguageModel()\n",
    "m = model.to(device)"
   ]
  },
  {
   "cell_type": "code",
   "execution_count": 201,
   "id": "c7036d07",
   "metadata": {},
   "outputs": [],
   "source": [
    "optimizer = torch.optim.AdamW(model.parameters(), lr=learning_rate)"
   ]
  },
  {
   "cell_type": "code",
   "execution_count": 202,
   "id": "3f98c3ee",
   "metadata": {},
   "outputs": [
    {
     "name": "stdout",
     "output_type": "stream",
     "text": [
      "1.677055835723877\n"
     ]
    }
   ],
   "source": [
    "batch_size = 32\n",
    "for steps in range(5000):\n",
    "    # sample a batch of data\n",
    "    xb, yb = get_batch('train')\n",
    "\n",
    "    # evaluate the loss\n",
    "    logits, loss = m(xb, yb)\n",
    "    optimizer.zero_grad(set_to_none=True)\n",
    "    loss.backward()\n",
    "    optimizer.step()\n",
    "\n",
    "print(loss.item())"
   ]
  },
  {
   "cell_type": "code",
   "execution_count": 203,
   "id": "2666db59",
   "metadata": {},
   "outputs": [
    {
     "name": "stdout",
     "output_type": "stream",
     "text": [
      "\n",
      "\n",
      "COMINIUS:\n",
      "Would. Go:\n",
      "Within much my veauous glove! neceiNntal:\n",
      "O, thee you; nom togue\n",
      "his away though I lream at a people; nor dee!\n",
      "Wrongived by Cate, you as see town the burninen,\n",
      "As thalk''d hrhow some up you do stange:\n",
      "Is am with Watch of need was be leet mare I she,\n",
      "Wrants is to tex'd; I hear mean out huse pray of thring me my amon to meun him, though.\n",
      "\n",
      "GLOUCESTER:\n",
      "Where sglave for Dusure: this glasse inded,\n",
      "The comes nothines affectiblew rekelone's recan envour eye the sturs hone\n",
      "as him ac\n"
     ]
    }
   ],
   "source": [
    "context = torch.zeros((1, 1), dtype=torch.long, device=device)\n",
    "print(decode(m.generate(context, max_new_tokens=500)[0].tolist()))"
   ]
  },
  {
   "cell_type": "code",
   "execution_count": null,
   "id": "8943faee",
   "metadata": {},
   "outputs": [],
   "source": []
  }
 ],
 "metadata": {
  "kernelspec": {
   "display_name": "torch251cpu",
   "language": "python",
   "name": "python3"
  },
  "language_info": {
   "codemirror_mode": {
    "name": "ipython",
    "version": 3
   },
   "file_extension": ".py",
   "mimetype": "text/x-python",
   "name": "python",
   "nbconvert_exporter": "python",
   "pygments_lexer": "ipython3",
   "version": "3.10.16"
  }
 },
 "nbformat": 4,
 "nbformat_minor": 5
}
